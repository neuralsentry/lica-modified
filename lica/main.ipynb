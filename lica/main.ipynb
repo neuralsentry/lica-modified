{
 "cells": [
  {
   "cell_type": "code",
   "execution_count": 7,
   "metadata": {},
   "outputs": [],
   "source": [
    "import pandas as pd\n",
    "from sklearn.model_selection import train_test_split\n",
    "\n",
    "from config import *\n",
    "from helpers import *"
   ]
  },
  {
   "cell_type": "markdown",
   "metadata": {},
   "source": [
    "### Filter function for vulnerability commits"
   ]
  },
  {
   "cell_type": "code",
   "execution_count": 8,
   "metadata": {},
   "outputs": [],
   "source": [
    "def filter_commits(commits):\n",
    "    \"\"\" wip \"\"\"\n",
    "    label= []\n",
    "    global STATS\n",
    "\n",
    "    for index, commit in commits.iterrows():\n",
    "        STATS[\"commits\"] += 1\n",
    "\n",
    "        if not filter_title(CONFIG, get_commit_title(commit)):\n",
    "            label.append(0)\n",
    "            continue\n",
    "        if any(hit in get_commit_title(commit) for hit in [\"Merge\", \"Revert\"]):\n",
    "            label.append(0)\n",
    "            continue\n",
    "        STATS[\"fixes\"] += 1\n",
    "\n",
    "        hits = filter_commit(CONFIG, commit)\n",
    "        if not hits:\n",
    "            label.append(0)\n",
    "            continue\n",
    "        STATS[\"filtered\"] += 1\n",
    "\n",
    "        reporter = get_commit_reporter(commit['commit_msg'])\n",
    "        CVEs = get_commit_cves(commit['commit_msg']) # enough to not check title?\n",
    "\n",
    "        if not filter_reporter(CONFIG, reporter):\n",
    "            label.append(0)\n",
    "            continue\n",
    "        else:\n",
    "            label.append(1)\n",
    "\n",
    "    return label"
   ]
  },
  {
   "cell_type": "markdown",
   "metadata": {},
   "source": [
    "### Load and Process dataset"
   ]
  },
  {
   "cell_type": "code",
   "execution_count": 9,
   "metadata": {},
   "outputs": [],
   "source": [
    "df = pd.read_csv('data/bigvul_devign_cvefixes_neuralsentry_commits.csv')\n",
    "df = df.drop_duplicates(subset=['commit_hash'],keep='first')\n",
    "df = df.dropna(subset=['commit_msg', 'commit_hash'])\n",
    "train_df, df = train_test_split(df, test_size=0.2, random_state=420)\n",
    "    \n",
    "linux_test_df = pd.read_csv('data/linux_test.csv')\n",
    "vulnfix = linux_test_df[linux_test_df['labels'] == 1]\n",
    "non_vulnfix = linux_test_df[linux_test_df['labels'] == 0]\n",
    "linux_test_df = pd.concat([non_vulnfix, vulnfix])"
   ]
  },
  {
   "cell_type": "markdown",
   "metadata": {},
   "source": [
    "### Prediction on BigVul, Devign, CVEfixes and NeuralSentry Dataset"
   ]
  },
  {
   "cell_type": "code",
   "execution_count": 10,
   "metadata": {},
   "outputs": [
    {
     "name": "stdout",
     "output_type": "stream",
     "text": [
      "\n",
      ">>> Confusion Matrix: \n",
      "TP: 953, FP: 168 \n",
      "FN: 2602, TN: 3275 \n",
      "\n",
      ">>> Accuracy:  0.6041726207487854 \n",
      "\n",
      ">>>: Classification Report:\n",
      "               precision    recall  f1-score   support\n",
      "\n",
      "  non-bugfix       0.56      0.95      0.70      3443\n",
      "      bugfix       0.85      0.27      0.41      3555\n",
      "\n",
      "    accuracy                           0.60      6998\n",
      "   macro avg       0.70      0.61      0.56      6998\n",
      "weighted avg       0.71      0.60      0.55      6998\n",
      "\n"
     ]
    }
   ],
   "source": [
    "predictions = filter_commits(df)\n",
    "labels = df['labels'].tolist()\n",
    "generate_metrics(labels, predictions)"
   ]
  },
  {
   "cell_type": "markdown",
   "metadata": {},
   "source": [
    "### Prediction on Linux Kernel CVEs Dataset"
   ]
  },
  {
   "cell_type": "code",
   "execution_count": 11,
   "metadata": {},
   "outputs": [
    {
     "name": "stdout",
     "output_type": "stream",
     "text": [
      "\n",
      ">>> Confusion Matrix: \n",
      "TP: 918, FP: 42 \n",
      "FN: 909, TN: 461 \n",
      "\n",
      ">>> Accuracy:  0.5918454935622317 \n",
      "\n",
      ">>>: Classification Report:\n",
      "               precision    recall  f1-score   support\n",
      "\n",
      "  non-bugfix       0.34      0.92      0.49       503\n",
      "      bugfix       0.96      0.50      0.66      1827\n",
      "\n",
      "    accuracy                           0.59      2330\n",
      "   macro avg       0.65      0.71      0.58      2330\n",
      "weighted avg       0.82      0.59      0.62      2330\n",
      "\n"
     ]
    }
   ],
   "source": [
    "predictions = filter_commits(linux_test_df)\n",
    "labels = linux_test_df['labels'].tolist()\n",
    "generate_metrics(labels, predictions)"
   ]
  }
 ],
 "metadata": {
  "kernelspec": {
   "display_name": "Python 3",
   "language": "python",
   "name": "python3"
  },
  "language_info": {
   "codemirror_mode": {
    "name": "ipython",
    "version": 3
   },
   "file_extension": ".py",
   "mimetype": "text/x-python",
   "name": "python",
   "nbconvert_exporter": "python",
   "pygments_lexer": "ipython3",
   "version": "3.10.0"
  },
  "orig_nbformat": 4
 },
 "nbformat": 4,
 "nbformat_minor": 2
}
